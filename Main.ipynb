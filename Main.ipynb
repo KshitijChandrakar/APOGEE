{
  "cells": [
    {
      "cell_type": "code",
      "source": [
        "from astroquery.mast import Observations\n",
        "\n",
        "import astropy.io.fits as fits\n",
        "from astropy.table import Table\n",
        "from astropy.coordinates import SkyCoord\n",
        "import astropy.units as u\n",
        "\n",
        "import scipy.stats as stats\n",
        "\n",
        "\n",
        "import plotly.express as px\n",
        "import plotly.offline as pyo\n",
        "import plotly.graph_objects as go\n",
        "\n",
        "import matplotlib.pyplot as plt\n",
        "import numpy as np\n",
        "import seaborn as sns\n",
        "import pandas as pd\n",
        "import os as os\n"
      ],
      "outputs": [],
      "execution_count": null,
      "metadata": {
        "jupyter": {
          "source_hidden": false,
          "outputs_hidden": false
        },
        "nteract": {
          "transient": {
            "deleting": false
          }
        }
      }
    },
    {
      "cell_type": "code",
      "source": [
        "path = \"/home/asus/Downloads/APOGEE/\"\n",
        "StarHorsefile = \"APOGEE_DR17_EDR3_STARHORSE_v2.fits\"\n",
        "APOGEEfile = \"allStar-dr17-synspec_rev1.fits\"\n",
        "SHdatapath = path + StarHorsefile\n",
        "APOGEEdatapath = path + APOGEEfile\n"
      ],
      "outputs": [],
      "execution_count": null,
      "metadata": {
        "jupyter": {
          "source_hidden": false,
          "outputs_hidden": false
        },
        "nteract": {
          "transient": {
            "deleting": false
          }
        }
      }
    },
    {
      "cell_type": "code",
      "source": [
        "SH_hdul = fits.open(SHdatapath)[1]\n",
        "APOGEE_hdul = fits.open(APOGEEdatapath)[1]\n",
        "\n"
      ],
      "outputs": [],
      "execution_count": null,
      "metadata": {
        "jupyter": {
          "source_hidden": false,
          "outputs_hidden": false
        },
        "nteract": {
          "transient": {
            "deleting": false
          }
        }
      }
    },
    {
      "cell_type": "code",
      "source": [
        "def makedf(data, cols, N):\n",
        "    df = pd.DataFrame()\n",
        "    for i in cols:\n",
        "        df[i] = pd.Series(data.data[i][:N])\n",
        "\n",
        "    return df\n",
        "\n"
      ],
      "outputs": [],
      "execution_count": null,
      "metadata": {
        "jupyter": {
          "source_hidden": false,
          "outputs_hidden": false
        },
        "nteract": {
          "transient": {
            "deleting": false
          }
        }
      }
    },
    {
      "cell_type": "code",
      "source": [
        "# cols = [\"APOGEE_ID\", \"GLON\", \"GLAT\", \"RA\", \"DEC\"]\n",
        "# SH = pd.DataFrame(SH_hdul.data)\n"
      ],
      "outputs": [],
      "execution_count": null,
      "metadata": {
        "jupyter": {
          "source_hidden": false,
          "outputs_hidden": false
        },
        "nteract": {
          "transient": {
            "deleting": false
          }
        }
      }
    },
    {
      "cell_type": "code",
      "source": [
        "# cols = [\"APOGEE_ID\", \"FE_H\", \"LOGG\", \"TEFF\", \"GLON\", \"GLAT\", \"RA\", \"DEC\"]\n",
        "# APOGEE = makedf(APOGEE_hdul, Text_Params, 10)\n"
      ],
      "outputs": [],
      "execution_count": null,
      "metadata": {
        "jupyter": {
          "source_hidden": false,
          "outputs_hidden": false
        },
        "nteract": {
          "transient": {
            "deleting": false
          }
        }
      }
    },
    {
      "cell_type": "code",
      "source": [
        "# APOGEE[Text_Params[1]]\n"
      ],
      "outputs": [],
      "execution_count": null,
      "metadata": {
        "jupyter": {
          "source_hidden": false,
          "outputs_hidden": false
        },
        "nteract": {
          "transient": {
            "deleting": false
          }
        }
      }
    },
    {
      "cell_type": "markdown",
      "source": [
        "----------------------------------------------------------------------------\n"
      ],
      "metadata": {
        "nteract": {
          "transient": {
            "deleting": false
          }
        }
      }
    },
    {
      "cell_type": "code",
      "source": [
        "GroupByParameter = \"M_H\"\n",
        "Text_Params = [\"APOGEE_ID\", \"ALT_ID\"]\n",
        "ExtraParam = \"GAIAEDR3_R_MED_GEO\"\n",
        "X_Param, Y_Param, Z_Param = \"GLAT\", \"GLON\", \"GAIAEDR3_DR2_RADIAL_VELOCITY\"\n",
        "N = 100\n",
        "title = (\n",
        "    X_Param + \" vs \" + Y_Param + \" vs \" + Z_Param + \" - \" + GroupByParameter\n",
        "    if Z_Param != None\n",
        "    else X_Param + \" vs \" + Y_Param + \" - \" + GroupByParameter\n",
        ")\n",
        "data = APOGEE_hdul.data\n"
      ],
      "outputs": [],
      "execution_count": null,
      "metadata": {
        "jupyter": {
          "source_hidden": false,
          "outputs_hidden": false
        },
        "nteract": {
          "transient": {
            "deleting": false
          }
        }
      }
    },
    {
      "cell_type": "markdown",
      "source": [],
      "metadata": {
        "nteract": {
          "transient": {
            "deleting": false
          }
        }
      }
    },
    {
      "cell_type": "code",
      "source": [
        "print(\"Starting plot\")"
      ],
      "outputs": [],
      "execution_count": null,
      "metadata": {
        "jupyter": {
          "source_hidden": false,
          "outputs_hidden": false
        },
        "nteract": {
          "transient": {
            "deleting": false
          }
        }
      }
    },
    {
      "cell_type": "code",
      "source": [
        "def Plot2D():\n",
        "    im = plt.scatter(\n",
        "        x=data[X_Param][:N],\n",
        "        y=data[Y_Param][:N],\n",
        "        c=data[GroupByParameter][:N],\n",
        "        marker=\".\",\n",
        "        s=1,\n",
        "        zorder=1,\n",
        "        cmap=\"jet\",\n",
        "        vmin=-1,\n",
        "        vmax=0.5,\n",
        "    )\n",
        "    plt.colorbar(im, location=\"bottom\", label=GroupByParameter)\n",
        "\n",
        "    plt.xlabel(X_Param)\n",
        "    plt.ylabel(Y_Param)\n",
        "    plt.title(title)\n",
        "    plt.savefig(path + title)"
      ],
      "outputs": [],
      "execution_count": null,
      "metadata": {
        "jupyter": {
          "source_hidden": false,
          "outputs_hidden": false
        },
        "nteract": {
          "transient": {
            "deleting": false
          }
        }
      }
    },
    {
      "cell_type": "code",
      "source": [
        "def Plot3D():\n",
        "    fig = go.Figure(\n",
        "        data=go.Scatter3d(\n",
        "            x=data[X_Param][:N],\n",
        "            y=data[Y_Param][:N],\n",
        "            z=data[Z_Param][:N],\n",
        "            text=makedf(APOGEE_hdul, Text_Params, N),\n",
        "            mode=\"markers\",\n",
        "            customdata=data,\n",
        "            hovertemplate=(\n",
        "                Text_Params[0] + \": %{Text_Params[0]}<br>\" +\n",
        "                Text_Params[1] + \": %{Text_Params[1]}<br>\" +\n",
        "                X_Param + \": %{x}<br>\" +\n",
        "                Y_Param + \": %{y}<br>\" +\n",
        "                Z_Param + \": %{z}<br>\" +\n",
        "                GroupByParameter + \": %{marker.color}<br>\" +\n",
        "                # ExtraParam + \": %{data[ExtraParam]}<br>\" +\n",
        "                \"<extra></extra>\"\n",
        "            ),\n",
        "            marker=dict(\n",
        "                size=3,\n",
        "                opacity=0.3,\n",
        "                color=data[GroupByParameter][:N],\n",
        "                colorscale=\"Viridis\",\n",
        "                colorbar=dict(title=GroupByParameter),\n",
        "                showscale=True,\n",
        "            ),\n",
        "        )\n",
        "    )\n",
        "    fig.update_layout(\n",
        "        title=title,\n",
        "        scene=dict(xaxis_title=X_Param, yaxis_title=Y_Param, zaxis_title=Z_Param),\n",
        "        width=800,\n",
        "        height=600,\n",
        "    )\n",
        "\n",
        "    fig.write_html(path + title + \".html\")  # Basic save\n"
      ],
      "outputs": [],
      "execution_count": null,
      "metadata": {
        "jupyter": {
          "source_hidden": false,
          "outputs_hidden": false
        },
        "nteract": {
          "transient": {
            "deleting": false
          }
        }
      }
    },
    {
      "cell_type": "code",
      "source": [
        "try:\n",
        "    if Z_Param == None:\n",
        "        Plot2D()\n",
        "    else:\n",
        "        Plot3D()\n",
        "except KeyboardInterrupt:\n",
        "    print(\"hie\")\n",
        "    exit(1)"
      ],
      "outputs": [],
      "execution_count": null,
      "metadata": {
        "jupyter": {
          "source_hidden": false,
          "outputs_hidden": false
        },
        "nteract": {
          "transient": {
            "deleting": false
          }
        }
      }
    }
  ],
  "metadata": {},
  "nbformat": 4,
  "nbformat_minor": 0
}