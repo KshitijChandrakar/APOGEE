{
  "cells": [
    {
      "cell_type": "code",
      "source": [
        "%matplotlib notebook"
      ],
      "outputs": [],
      "execution_count": null,
      "metadata": {
        "jupyter": {
          "source_hidden": false,
          "outputs_hidden": false
        },
        "nteract": {
          "transient": {
            "deleting": false
          }
        }
      }
    },
    {
      "cell_type": "code",
      "source": [
        "from astroquery.mast import Observations\n",
        "\n",
        "import astropy.io.fits as fits\n",
        "from astropy.table import Table\n",
        "from astropy.coordinates import SkyCoord\n",
        "import astropy.units as u\n",
        "\n",
        "import scipy.stats as stats\n",
        "\n",
        "import matplotlib.pyplot as plt\n",
        "import numpy as np\n",
        "\n",
        "import plotly.express as px\n",
        "import plotly.offline as pyo\n",
        "\n",
        "import seaborn as sns\n",
        "import pandas as pd\n",
        "import os as os\n"
      ],
      "outputs": [],
      "execution_count": null,
      "metadata": {
        "jupyter": {
          "source_hidden": false,
          "outputs_hidden": false
        },
        "nteract": {
          "transient": {
            "deleting": false
          }
        }
      }
    },
    {
      "cell_type": "code",
      "source": [
        "pyo.init_notebook_mode()"
      ],
      "outputs": [],
      "execution_count": null,
      "metadata": {
        "jupyter": {
          "source_hidden": false,
          "outputs_hidden": false
        },
        "nteract": {
          "transient": {
            "deleting": false
          }
        }
      }
    },
    {
      "cell_type": "code",
      "source": [
        "#Update Plotting Parameters\n",
        "params = {'axes.labelsize': 12, 'xtick.labelsize': 12, 'ytick.labelsize': 12,\n",
        "          'text.usetex': False, 'lines.linewidth': 1,\n",
        "          'axes.titlesize': 18, 'font.family': 'serif', 'font.size': 12}\n",
        "plt.rcParams.update(params)\n"
      ],
      "outputs": [],
      "execution_count": null,
      "metadata": {
        "jupyter": {
          "source_hidden": false,
          "outputs_hidden": false
        },
        "nteract": {
          "transient": {
            "deleting": false
          }
        }
      }
    },
    {
      "cell_type": "code",
      "source": [
        "### Read in file for magnetic star; get flux and rest frame wavelengths\n",
        "path = '/home/asus/Downloads/APOGEE/'\n",
        "file='allStar-dr17-synspec_rev1.fits'\n",
        "datapath = path + file\n",
        "hdul = fits.open(datapath)\n",
        "data = hdul[1].data\n",
        "columns = hdul[1].columns\n"
      ],
      "outputs": [],
      "execution_count": null,
      "metadata": {
        "jupyter": {
          "source_hidden": false,
          "outputs_hidden": false
        },
        "nteract": {
          "transient": {
            "deleting": false
          }
        }
      }
    },
    {
      "cell_type": "code",
      "source": [
        "columns"
      ],
      "outputs": [],
      "execution_count": null,
      "metadata": {
        "jupyter": {
          "source_hidden": false,
          "outputs_hidden": false
        },
        "nteract": {
          "transient": {
            "deleting": false
          }
        }
      }
    },
    {
      "cell_type": "code",
      "source": [
        "GroupByParameter = \"FE_H\"\n",
        "X_Param, Y_Param, Z_Param = \"K\", \"H\", \"J\"\n",
        "title = X_Param + \" vs \" + Y_Param + \" vs \" + Z_Param + \" - \" + GroupByParameter\n"
      ],
      "outputs": [],
      "execution_count": null,
      "metadata": {
        "jupyter": {
          "source_hidden": false,
          "outputs_hidden": false
        },
        "nteract": {
          "transient": {
            "deleting": false
          }
        }
      }
    },
    {
      "cell_type": "code",
      "source": [],
      "outputs": [],
      "execution_count": null,
      "metadata": {
        "jupyter": {
          "source_hidden": false,
          "outputs_hidden": false
        },
        "nteract": {
          "transient": {
            "deleting": false
          }
        }
      }
    },
    {
      "cell_type": "code",
      "source": [
        "im = plt.scatter(x = data[X_Param], y = data[Y_Param], c=data[GroupByParameter],\n",
        "                 marker='.', s=1, zorder=1,\n",
        "                 cmap='jet', vmin=-1, vmax=0.5)\n",
        "plt.colorbar(im, location='bottom', label='Metallicity' + GroupByParameter)\n",
        "\n",
        "plt.xlabel(X_Param)\n",
        "plt.ylabel(Y_Param)\n",
        "plt.title(title)\n",
        "plt.savefig(\"/home/asus/Downloads/APOGEE/\" + title)"
      ],
      "outputs": [],
      "execution_count": null,
      "metadata": {
        "jupyter": {
          "source_hidden": false,
          "outputs_hidden": false
        },
        "nteract": {
          "transient": {
            "deleting": false
          }
        }
      }
    }
  ],
  "metadata": {},
  "nbformat": 4,
  "nbformat_minor": 0
}